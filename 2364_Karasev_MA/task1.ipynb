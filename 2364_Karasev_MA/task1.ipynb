{
  "cells": [
    {
      "cell_type": "markdown",
      "metadata": {
        "id": "XNBPULJmznTZ"
      },
      "source": [
        "# Практическая работа №1: Исследование двумерного нормального распределения\n",
        "\n",
        "Выполнил студент гр. 2364 Карасев Максим Алексеевич. Вариант №6"
      ]
    },
    {
      "cell_type": "markdown",
      "metadata": {
        "id": "1MUIEhPNznTa"
      },
      "source": [
        "## Цель работы\n",
        "\n",
        "Исследовать свойства двумерного случайного вектора имеющего нормальное распределение, овладеть навыками преобразования нормального вектора в стандартный и в вектор с независимыми компонентами."
      ]
    },
    {
      "cell_type": "markdown",
      "metadata": {
        "id": "6CuJ5lrVznTb"
      },
      "source": [
        "## Основные теоретические положения\n",
        "\n",
        "Плотность распределения: \\\n",
        "$ p_\\xi(x) = F'_\\xi(x) $.\n",
        "\n",
        "Нормальное распределение – распределение,\n",
        "плотность которого имеет вид: \\\n",
        "$ p(x) = \\frac{1}{\\sqrt{2\\pi} \\sigma} \\mathrm{exp} \\left\\{ -\\frac{(x-a)^2}{2\\sigma^2} \\right\\} $,\n",
        "где $\\sigma = \\text{СКО}$,\n",
        "$\\sigma^2 = \\mathbb{D}$.\n",
        "\n",
        "Вектор математических ожиданий: \\\n",
        "$ X = \\left(X_1, \\dots, X_n\\right)^T: \\Omega \\rightarrow \\mathbb{R}^n\n",
        "\\Rightarrow\n",
        "\\mu = \\mathbb{E}[X] =\n",
        "\\left(\\mathbb{E}[X_1], \\dots, \\mathbb{E}[X_n]\\right)^T\n",
        "$\n",
        "\n",
        "Ковариация: \\\n",
        "$ \\mathrm{cov}(X, Y) =\n",
        "\\mathbb{E}\\left[\\left(X - \\mathbb{E}X\\right)\n",
        "\\left(Y - \\mathbb{E}Y\\right)\\right] $\n",
        "\n",
        "Ковариационная матрица: \\\n",
        "$ \\Sigma = \\mathrm{cov}\\left(\\overline{X}, \\overline{Y}\\right) =\n",
        "\\mathbb{E}\\left[\n",
        "  \\left(\\overline{X} - \\mathbb{E}\\overline{X}\\right)\n",
        "  \\left(\\overline{Y} - \\mathbb{E}\\overline{Y}\\right)^T\n",
        "\\right] $"
      ]
    },
    {
      "cell_type": "markdown",
      "metadata": {
        "id": "nfRQmPI8znTb"
      },
      "source": [
        "## Постановка задачи\n",
        "\n",
        "Плотность двумерного нормального распределения имеет вид:\n",
        "$ p_{\\xi, \\eta}(x, y) = C \\cdot \\exp \\left( -\\frac{1}{2} \\left( 2x^2 + 4x y + 5y^2 - 4x + 8y + 14 \\right) \\right) $\n",
        "\n",
        "Для заданного двумерного нормального вектора необходимо вычислить\n",
        "числовые характеристики и выполнить заданные преобразования.\n",
        "Полученные результаты содержательно проинтерпретировать."
      ]
    },
    {
      "cell_type": "markdown",
      "metadata": {
        "id": "rpG8CHAkznTb"
      },
      "source": [
        "## Выполнение работы\n",
        "\n"
      ]
    },
    {
      "cell_type": "markdown",
      "source": [
        "### 1. Вектор математических ожиданий, ковариационные характеристики, график плотности\n",
        "\n",
        "Для решения этой задачи преобразуем квадратичную форму в экспоненте так,\n",
        "чтобы получить вектор математических ожиданий и матрицу ковариаций.\n",
        "После этого при помощи Python отрисуем график функции плотности,\n",
        "используя полученные параметры."
      ],
      "metadata": {
        "id": "_0lJtnAq2V1c"
      }
    },
    {
      "cell_type": "markdown",
      "source": [
        "#### Вектор математических ожиданий и матрица ковариаций\n",
        "\n",
        "Данная функция плотности двумерного распределения:\n",
        "\n",
        "$\n",
        "p\\_{\\xi, \\eta}(x, y) = C \\cdot \\exp \\left( -\\frac{1}{2} \\left( 2x^2 + 4x y + 5y^2 - 4x + 8y + 14 \\right) \\right)\n",
        "$\n",
        "\n",
        "Необходимо переписать квадратичную форму в экспоненте\n",
        "в стандартную форму двумерного нормального распределения:\n",
        "\n",
        "$\n",
        "p\\_{\\xi, \\eta}(x, y) = \\frac{1}{2\\pi \\sqrt{\\det \\boldsymbol{\\Sigma}}} \\exp\\left( -\\frac{1}{2} (\\boldsymbol{x} - \\boldsymbol{\\mu})^\\top \\boldsymbol{\\Sigma}^{-1} (\\boldsymbol{x} - \\boldsymbol{\\mu}) \\right)\n",
        "$"
      ],
      "metadata": {
        "id": "gTf6SD5UE3D5"
      }
    },
    {
      "cell_type": "markdown",
      "source": [
        "##### Перевод квадратичной формы в матричную форму записи\n",
        "\n",
        "Квадратичная форма может быть записана так:\n",
        "\n",
        "$\n",
        "Q(x, y) = \\begin{bmatrix} x & y \\end{bmatrix} \\begin{bmatrix} 2 & 2 \\\\ 2 & 5 \\end{bmatrix} \\begin{bmatrix} x \\\\ y \\end{bmatrix} + \\begin{bmatrix} -4 & 8 \\end{bmatrix} \\begin{bmatrix} x \\\\ y \\end{bmatrix} + 14\n",
        "$\n",
        "\n",
        "Пусть:\n",
        "\n",
        "- **Матрица $ A $:**\n",
        "  $\n",
        "  A = \\begin{bmatrix} 2 & 2 \\\\ 2 & 5 \\end{bmatrix}\n",
        "  $\n",
        "- **Вектор $ \\boldsymbol{b} $:**\n",
        "  $\n",
        "  \\boldsymbol{b} = \\begin{bmatrix} -4 \\\\ 8 \\end{bmatrix}\n",
        "  $"
      ],
      "metadata": {
        "id": "T_RD8mQlKTOa"
      }
    },
    {
      "cell_type": "markdown",
      "source": [
        "##### Вектор математических ожиданий $ \\boldsymbol{\\mu} $\n",
        "\n",
        "В многомерном нормальном распределении\n",
        "член первой степени соответствует\n",
        "$-2A\\boldsymbol{\\mu}$:\n",
        "\n",
        "$\n",
        "-2A\\boldsymbol{\\mu} = \\boldsymbol{b}\n",
        "$\n",
        "\n",
        "Решение для $ \\boldsymbol{\\mu} $:\n",
        "\n",
        "$\n",
        "\\boldsymbol{\\mu} = -\\frac{1}{2} A^{-1} \\boldsymbol{b}\n",
        "$\n",
        "\n",
        "Для начала вычислим $ A^{-1} $:\n",
        "\n",
        "$\n",
        "\\det A = (2)(5) - (2)(2) = 10 - 4 = 6\n",
        "$\n",
        "$\n",
        "A^{-1} = \\frac{1}{\\det A} \\begin{bmatrix} 5 & -2 \\\\ -2 & 2 \\end{bmatrix} = \\frac{1}{6} \\begin{bmatrix} 5 & -2 \\\\ -2 & 2 \\end{bmatrix}\n",
        "$\n",
        "\n",
        "Теперь посчитаем $ \\boldsymbol{\\mu} $:\n",
        "\n",
        "$\n",
        "A^{-1} \\boldsymbol{b} = \\frac{1}{6} \\begin{bmatrix} 5 & -2 \\\\ -2 & 2 \\end{bmatrix} \\begin{bmatrix} -4 \\\\ 8 \\end{bmatrix} = \\frac{1}{6} \\begin{bmatrix} -20 -16 \\\\ 8 + 16 \\end{bmatrix} = \\begin{bmatrix} -6 \\ 4 \\end{bmatrix}\n",
        "$\n",
        "$\n",
        "\\boldsymbol{\\mu} = -\\frac{1}{2} \\begin{bmatrix} -6 \\\\ 4 \\end{bmatrix} = \\begin{bmatrix} 3 \\\\ -2 \\end{bmatrix}\n",
        "$\n",
        "\n",
        "Вектор матожиданий:\n",
        "\n",
        "$\n",
        "\\boldsymbol{\\mu} = \\begin{bmatrix} \\mu\\_x \\\\ \\mu\\_y \\end{bmatrix} = \\begin{bmatrix} 3 \\\\ -2 \\end{bmatrix}\n",
        "$"
      ],
      "metadata": {
        "id": "zAm1F7d4KXan"
      }
    },
    {
      "cell_type": "markdown",
      "source": [
        "\n",
        "##### Матрица ковариаций $ \\boldsymbol{\\Sigma} $\n",
        "\n",
        "Так как $ A = \\boldsymbol{\\Sigma}^{-1} $,\n",
        "матрица ковариаций равна:\n",
        "\n",
        "$\n",
        "\\boldsymbol{\\Sigma} = A^{-1} = \\frac{1}{6} \\begin{bmatrix} 5 & -2 \\\\ -2 & 2 \\end{bmatrix}\n",
        "$\n",
        "\n",
        "Матрица ковариаций:\n",
        "\n",
        "$\n",
        "\\boldsymbol{\\Sigma} = \\begin{bmatrix} \\sigma\\_{xx} & \\sigma\\_{xy} \\\\ \\sigma\\_{yx} & \\sigma\\_{yy} \\end{bmatrix} = \\begin{bmatrix} \\dfrac{5}{6} & -\\dfrac{1}{3} \\\\ -\\dfrac{1}{3} & \\dfrac{1}{3} \\end{bmatrix}\n",
        "$"
      ],
      "metadata": {
        "id": "XKH8tnqVKal5"
      }
    },
    {
      "cell_type": "markdown",
      "source": [
        "#### График функции плотности"
      ],
      "metadata": {
        "id": "IlqxGh-gH4RR"
      }
    },
    {
      "cell_type": "code",
      "source": [
        "# Import necessary libraries\n",
        "import numpy as np\n",
        "import matplotlib.pyplot as plt\n",
        "from scipy.stats import multivariate_normal\n",
        "\n",
        "# Mean vector\n",
        "mu = np.array([3, -2])\n",
        "\n",
        "# Covariance matrix\n",
        "Sigma = (1/6) * np.array([[5, -2],\n",
        "                          [-2, 2]])\n",
        "\n",
        "# Create a grid of (x, y) values\n",
        "x, y = np.mgrid[mu[0]-3:mu[0]+3:0.01, mu[1]-3:mu[1]+3:0.01]\n",
        "pos = np.dstack((x, y))\n",
        "\n",
        "# Create the multivariate normal distribution\n",
        "rv = multivariate_normal(mu, Sigma)\n",
        "\n",
        "# Compute the density function values\n",
        "z = rv.pdf(pos)\n",
        "\n",
        "# Plotting\n",
        "plt.figure(figsize=(8, 6))\n",
        "# Contour plot\n",
        "plt.contourf(x, y, z, levels=50, cmap='viridis')\n",
        "plt.colorbar(label='Density')\n",
        "plt.title('Density Function of the Bivariate Normal Distribution')\n",
        "plt.xlabel('x')\n",
        "plt.ylabel('y')\n",
        "plt.show()"
      ],
      "metadata": {
        "colab": {
          "base_uri": "https://localhost:8080/",
          "height": 564
        },
        "id": "ExEwqJPCH72X",
        "outputId": "a6d645cf-f3e4-4c2a-8a41-bf6f24532a85"
      },
      "execution_count": 2,
      "outputs": [
        {
          "output_type": "display_data",
          "data": {
            "text/plain": [
              "<Figure size 800x600 with 2 Axes>"
            ],
            "image/png": "[encoded data removed]"
          },
          "metadata": {}
        }
      ]
    },
    {
      "cell_type": "markdown",
      "source": [
        "##### Объяснение\n",
        "\n",
        "- Библиотеки:\n",
        "  - `numpy` для численных операций.\n",
        "  - `matplotlib.pyplot` для построения графиков.\n",
        "  - `scipy.stats.multivariate_normal` для работы с многомерными нормальными распределениями.\n",
        "\n",
        "- Вектор матожиданий и матрица ковариаций:\n",
        "  - Подсчитаны ранее.\n",
        "\n",
        "- Создание сетки координат:\n",
        "  - `np.mgrid` создаёт сетку.\n",
        "  - Диапазон отцентрован относительно средних значений.\n",
        "\n",
        "- Подсчёт плотности:\n",
        "  - `rv.pdf(pos)` рассчитывает плотность функции в каждой точке координат.\n",
        "\n",
        "- Построение графика:\n",
        "  - `plt.contourf` создаёт график с заполненным контуром.\n",
        "  - Цветная полоса добавлена для индикации значений плотности.\n",
        "\n",
        "Графический вывод:\n",
        "\n",
        "График показывает линию,\n",
        "соответствующую значениям функции плотности распределения\n",
        "случайного вектора $ \\left(\\xi, \\eta\\right) $."
      ],
      "metadata": {
        "id": "aOTmswp9KjNU"
      }
    },
    {
      "cell_type": "markdown",
      "metadata": {
        "id": "rXlWlqb8znTd"
      },
      "source": [
        "## Выводы\n",
        "\n",
        "Общий вывод по проделанной работе."
      ]
    }
  ],
  "metadata": {
    "colab": {
      "provenance": []
    },
    "kernelspec": {
      "display_name": "Python 3 (ipykernel)",
      "language": "python",
      "name": "python3"
    },
    "language_info": {
      "codemirror_mode": {
        "name": "ipython",
        "version": 3
      },
      "file_extension": ".py",
      "mimetype": "text/x-python",
      "name": "python",
      "nbconvert_exporter": "python",
      "pygments_lexer": "ipython3",
      "version": "3.12.5"
    }
  },
  "nbformat": 4,
  "nbformat_minor": 0
}