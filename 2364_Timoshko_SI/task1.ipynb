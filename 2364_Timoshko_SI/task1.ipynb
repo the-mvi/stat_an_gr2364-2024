{
 "cells": [
  {
   "cell_type": "markdown",
   "id": "fadf6805-5fd0-4e7b-9328-e18eed2a6059",
   "metadata": {},
   "source": [
    "Плотность двумерного нормального распределения имеет вид:\n",
    "$$\n",
    "f_{\\xi,\\eta'} = C\\cdot \\mathrm{exp}(-0.5(5x^2-4xy+8y^2+6x+12y+9))\n",
    "$$"
   ]
  },
  {
   "cell_type": "markdown",
   "id": "36a3274f-a2df-4de1-b6d8-3b334f2f754d",
   "metadata": {},
   "source": [
    "# Задание 1\n",
    "- Для начала вычислим коэффициент $C$ из условия: \n",
    "$$\n",
    "\\int_{\\mathbb{R}^2}{f_{\\xi,\\eta}(x,y)dS = 1}\n",
    "$$"
   ]
  },
  {
   "cell_type": "code",
   "execution_count": 7,
   "id": "52b6d789-059a-437b-8d8a-7b8ca2a5db69",
   "metadata": {
    "scrolled": true
   },
   "outputs": [
    {
     "name": "stdout",
     "output_type": "stream",
     "text": [
      "\u001b[?2004l\n",
      "\u001b[?2004h\u001b[?2004l\n",
      "\u001b[?2004h\u001b[?2004l\n",
      "\n",
      "\u001b[?2004h\u001b[?2004l\n",
      "\u001b[?2004h\u001b[?2004l\n",
      "\u001b[?2004h\u001b[?2004l\n",
      "\u001b[?2004h\u001b[?2004l\n",
      "Symbolic pkg v3.2.1: Python communication link active, SymPy v1.13.3.\n",
      "\u001b[?2004h\u001b[?2004l\n",
      "warning: passing floating-point values to sym is dangerous, see \"help sym\"\n",
      "warning: called from\n",
      "    double_to_sym_heuristic at line 50 column 7\n",
      "    sym at line 384 column 13\n",
      "    mtimes at line 54 column 5\n",
      "\n",
      "\u001b[?2004h"
     ]
    }
   ],
   "source": [
    "% начальная инициализация. Задание уравнения плотности\n",
    "pkg load symbolic;\n",
    "clear all;\n",
    "format long;\n",
    "graphics_toolkit('gnuplot');\n",
    "\n",
    "syms x y C;\n",
    "f_xi_eta  = C*exp(-0.5*(5*x^2 - 4*x*y + 8*y^2 + 6*x + 12*y + 9));"
   ]
  },
  {
   "cell_type": "code",
   "execution_count": 8,
   "id": "af6df30e-b53a-440f-862e-96cb4ef0d2cb",
   "metadata": {},
   "outputs": [
    {
     "name": "stdout",
     "output_type": "stream",
     "text": [
      "\u001b[?2004l\n",
      "\u001b[?2004h\u001b[?2004l\n",
      "\u001b[?2004h\u001b[?2004l\n",
      "\u001b[?2004h\u001b[?2004l\n",
      "Найденное значение для C: \u001b[?2004h\u001b[?2004l\n",
      "  3\n",
      "  ─\n",
      "  π\n",
      "\u001b[?2004h\u001b[?2004l\n",
      "\u001b[?2004h"
     ]
    }
   ],
   "source": [
    "% выражение через интеграл\n",
    "eq1 = int(int(f_xi_eta, x, -inf, +inf), y, -inf, +inf) == 1;\n",
    "C_founded = simplify(solve(eq1, C));\n",
    "printf(\"Найденное значение для C: \");\n",
    "disp(C_founded);\n",
    "f_xi_eta = subs(f_xi_eta, C, C_founded);"
   ]
  },
  {
   "cell_type": "markdown",
   "id": "a9e82a4c-097f-4cc9-8600-a907d514a9fb",
   "metadata": {},
   "source": [
    "- Теперь вычислим выражения для плотностей случайных величин $f_\\xi(x)$ и $f_\\eta(x)$"
   ]
  },
  {
   "cell_type": "code",
   "execution_count": 9,
   "id": "e35805e6-8ff0-451a-9d7c-bcb1bd543402",
   "metadata": {},
   "outputs": [
    {
     "name": "stdout",
     "output_type": "stream",
     "text": [
      "\u001b[?2004l\n",
      "\u001b[?2004h\u001b[?2004l\n",
      "f_xi(x): \n",
      "\u001b[?2004h\u001b[?2004l\n",
      "          2          \n",
      "       9⋅x    9⋅x   9\n",
      "     - ──── - ─── - ─\n",
      "        4      2    4\n",
      "  3⋅ℯ                \n",
      "  ───────────────────\n",
      "         2⋅√π        \n",
      "\u001b[?2004h\u001b[?2004l\n",
      "\u001b[?2004h\u001b[?2004l\n",
      "f_eta(x):\n",
      "\u001b[?2004h\u001b[?2004l\n",
      "               2            \n",
      "           18⋅x    36⋅x   18\n",
      "         - ───── - ──── - ──\n",
      "             5      5     5 \n",
      "  3⋅√10⋅ℯ                   \n",
      "  ──────────────────────────\n",
      "             5⋅√π           \n",
      "\u001b[?2004h"
     ]
    }
   ],
   "source": [
    "f_xi = simplify(int(f_xi_eta, y, -inf, +inf));\n",
    "printf(\"f_xi(x): \\n\");\n",
    "disp(f_xi);\n",
    "f_eta = simplify( subs(int(f_xi_eta, x, -inf, +inf), y, x) );\n",
    "printf(\"f_eta(x):\\n\");\n",
    "disp(f_eta);"
   ]
  },
  {
   "cell_type": "markdown",
   "id": "56bb689d-9747-47a0-a9f3-9ff4df5aa4f7",
   "metadata": {},
   "source": [
    "- Плотности вычислены. Теперь посчитаем математические ожидания"
   ]
  },
  {
   "cell_type": "code",
   "execution_count": 10,
   "id": "7f010797-53b7-4cf0-8a32-cdb419868887",
   "metadata": {},
   "outputs": [
    {
     "name": "stdout",
     "output_type": "stream",
     "text": [
      "\u001b[?2004l\n",
      "\u001b[?2004h\u001b[?2004l\n",
      "\u001b[?2004h\u001b[?2004l\n",
      "\u001b[?2004h\u001b[?2004l\n",
      "Вектор математических ожиданий:\n",
      "\u001b[?2004h\u001b[?2004l\n",
      "  -1  -1\n",
      "\u001b[?2004h"
     ]
    }
   ],
   "source": [
    "expect_xi = double(int(x*f_xi, x, -inf, +inf));\n",
    "expect_eta = double(int(x*f_eta, x, -inf, +inf));\n",
    "exp_vec = [expect_xi expect_eta];\n",
    "printf(\"Вектор математических ожиданий:\\n\");\n",
    "disp(exp_vec);"
   ]
  },
  {
   "cell_type": "markdown",
   "id": "6bfdf339-2e93-4dfc-8744-9df8208ce5fb",
   "metadata": {},
   "source": [
    "- График плотности"
   ]
  },
  {
   "cell_type": "code",
   "execution_count": 11,
   "id": "6e231615-7cfc-4ed4-8992-e7f5970d8833",
   "metadata": {},
   "outputs": [
    {
     "name": "stdout",
     "output_type": "stream",
     "text": [
      "\u001b[?2004l\n",
      "\u001b[?2004h\u001b[?2004l\n",
      "\u001b[?2004h\u001b[?2004l\n",
      "\u001b[?2004h"
     ]
    },
    {
     "data": {
      "image/png": "[encoded data removed]",
      "text/plain": [
       "<IPython.core.display.Image object>"
      ]
     },
     "metadata": {},
     "output_type": "display_data"
    }
   ],
   "source": [
    "[x_grid y_grid] = meshgrid(-2.5:0.1:0.5, -2.5:0.1:0.5);\n",
    "f_xi_eta_numerical = matlabFunction(f_xi_eta);\n",
    "surf(x_grid, y_grid, f_xi_eta_numerical(x_grid, y_grid));"
   ]
  },
  {
   "cell_type": "markdown",
   "id": "8c351f0b-8d2a-40f4-b479-26eddce14b43",
   "metadata": {},
   "source": [
    "- Вычислим ковариацию, используя следующую формулу:\n",
    "  $$\n",
    "  \\mathrm{cov}(\\xi, \\eta) = \n",
    "  \\int_{\\mathbb{R}^2}{(x - \\mathbb{E}\\xi)(y - \\mathbb{E}\\eta)f_{\\xi, \\eta}(x,y)dS}\n",
    "  $$"
   ]
  },
  {
   "cell_type": "code",
   "execution_count": 16,
   "id": "200847dc-e42a-4de4-aaf9-f6197884677e",
   "metadata": {},
   "outputs": [
    {
     "name": "stdout",
     "output_type": "stream",
     "text": [
      "\u001b[?2004l\n",
      "\u001b[?2004h\u001b[?2004l\n",
      "\u001b[?2004h\u001b[?2004l\n",
      "Ковариация: \n",
      "\u001b[?2004h\u001b[?2004l\n",
      "  1/18\n",
      "\u001b[?2004h"
     ]
    }
   ],
   "source": [
    "func_to_integrate = (x + 1)*(y + 1)*f_xi_eta;\n",
    "covariance = simplify( int(int(func_to_integrate, x, -inf, +inf), y, -inf, +inf) );\n",
    "printf(\"Ковариация: \\n\");\n",
    "disp(covariance);"
   ]
  }
 ],
 "metadata": {
  "kernelspec": {
   "display_name": "Octave",
   "language": "octave",
   "name": "octave"
  },
  "language_info": {
   "file_extension": ".m",
   "help_links": [
    {
     "text": "GNU Octave",
     "url": "https://www.gnu.org/software/octave/support.html"
    },
    {
     "text": "Octave Kernel",
     "url": "https://github.com/Calysto/octave_kernel"
    },
    {
     "text": "MetaKernel Magics",
     "url": "https://metakernel.readthedocs.io/en/latest/source/README.html"
    }
   ],
   "mimetype": "text/x-octave",
   "name": "octave",
   "version": "9.2.0"
  }
 },
 "nbformat": 4,
 "nbformat_minor": 5
}
